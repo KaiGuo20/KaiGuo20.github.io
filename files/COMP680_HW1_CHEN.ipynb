{
 "cells": [
  {
   "cell_type": "markdown",
   "metadata": {},
   "source": [
    "<img style=\"float: left;\" src=\"attachment:D2Klogo.png\" width=\"20%\"> \n",
    "\n",
    "<center>\n",
    "\n",
    "# Welcome to COMP 680 #\n",
    "### Statistics for Computing and Data Science ###\n",
    "\n",
    "### Homework 1 Due 9/8 by Midnight ###"
   ]
  },
  {
   "cell_type": "markdown",
   "metadata": {},
   "source": [
    "### Python basics ###\n",
    "- #### What can we do through Python? ####"
   ]
  },
  {
   "cell_type": "code",
   "execution_count": null,
   "metadata": {},
   "outputs": [
    {
     "name": "stdout",
     "output_type": "stream",
     "text": [
      "Hello World!\n"
     ]
    }
   ],
   "source": [
    "# print text\n",
    "print(\"Hello World!\")"
   ]
  },
  {
   "cell_type": "code",
   "execution_count": 3,
   "metadata": {},
   "outputs": [
    {
     "name": "stdout",
     "output_type": "stream",
     "text": [
      "8\n"
     ]
    }
   ],
   "source": [
    "# calculation\n",
    "print (2 * 4)"
   ]
  },
  {
   "cell_type": "markdown",
   "metadata": {},
   "source": [
    "- #### Add comments\n",
    "It is good practice to add comments throughout your code. This helps you and others understand what the code is (supposed to be) doing. To add comments to the scrips, we can use the # tage."
   ]
  },
  {
   "cell_type": "code",
   "execution_count": null,
   "metadata": {},
   "outputs": [
    {
     "name": "stdout",
     "output_type": "stream",
     "text": [
      "9\n"
     ]
    }
   ],
   "source": [
    "# 3 times 3 (This is the comment)\n",
    "print(3 * 3)"
   ]
  },
  {
   "cell_type": "markdown",
   "metadata": {},
   "source": [
    "* #### Calculation ####"
   ]
  },
  {
   "cell_type": "code",
   "execution_count": 5,
   "metadata": {},
   "outputs": [
    {
     "name": "stdout",
     "output_type": "stream",
     "text": [
      "2\n",
      "1\n"
     ]
    }
   ],
   "source": [
    "# Addition and subtraction\n",
    "print(1 + 1)\n",
    "print(2 - 1)"
   ]
  },
  {
   "cell_type": "code",
   "execution_count": 6,
   "metadata": {},
   "outputs": [
    {
     "name": "stdout",
     "output_type": "stream",
     "text": [
      "8\n",
      "3.0\n"
     ]
    }
   ],
   "source": [
    "# Multiplication and division\n",
    "print(2 * 4)\n",
    "print(6 / 2)"
   ]
  },
  {
   "cell_type": "code",
   "execution_count": 7,
   "metadata": {},
   "outputs": [
    {
     "name": "stdout",
     "output_type": "stream",
     "text": [
      "9\n"
     ]
    }
   ],
   "source": [
    "# Exponentiation\n",
    "print(3 ** 2)"
   ]
  },
  {
   "cell_type": "code",
   "execution_count": 8,
   "metadata": {},
   "outputs": [
    {
     "name": "stdout",
     "output_type": "stream",
     "text": [
      "1\n"
     ]
    }
   ],
   "source": [
    "# Modulo\n",
    "print(11 % 2)"
   ]
  },
  {
   "cell_type": "markdown",
   "metadata": {},
   "source": [
    "* #### Variable ####\n",
    "We use \"=\" to assign a value to a variable."
   ]
  },
  {
   "cell_type": "code",
   "execution_count": 9,
   "metadata": {},
   "outputs": [],
   "source": [
    "x = 3"
   ]
  },
  {
   "cell_type": "markdown",
   "metadata": {},
   "source": [
    "We can refer to the value with its name."
   ]
  },
  {
   "cell_type": "code",
   "execution_count": 10,
   "metadata": {},
   "outputs": [
    {
     "name": "stdout",
     "output_type": "stream",
     "text": [
      "3\n"
     ]
    }
   ],
   "source": [
    "print(x)"
   ]
  },
  {
   "cell_type": "code",
   "execution_count": 11,
   "metadata": {},
   "outputs": [
    {
     "name": "stdout",
     "output_type": "stream",
     "text": [
      "5\n"
     ]
    }
   ],
   "source": [
    "print(x + 2)"
   ]
  },
  {
   "cell_type": "markdown",
   "metadata": {},
   "source": [
    "Note: \"=\" is the assignment symbol and cannot be used to test equality."
   ]
  },
  {
   "cell_type": "markdown",
   "metadata": {},
   "source": [
    "- Type of variables:\n",
    "   - numerical:\n",
    "    - int (integer): a number without a fractional part.\n",
    "    - float (floating): a number that has both an integer and fractional part.\n",
    "   - non-numerical:\n",
    "    - str (string): a type of data to represent text.\n",
    "    - bool (boolean): a type to represent logical values. (Can only be \"True\" or \"False.\" Note that the first letter must be capitalized.)\n",
    "    "
   ]
  },
  {
   "cell_type": "code",
   "execution_count": 12,
   "metadata": {},
   "outputs": [],
   "source": [
    "# int\n",
    "x = 1\n",
    "# float\n",
    "y = 2.3\n",
    "# string\n",
    "a = \"Data science is great fun.\"\n",
    "# bool\n",
    "b = True"
   ]
  },
  {
   "cell_type": "code",
   "execution_count": 13,
   "metadata": {},
   "outputs": [
    {
     "name": "stdout",
     "output_type": "stream",
     "text": [
      "1\n",
      "2.3\n",
      "Data science is great fun.\n",
      "True\n"
     ]
    }
   ],
   "source": [
    "print(x)\n",
    "print(y)\n",
    "print(a)\n",
    "print(b)"
   ]
  },
  {
   "cell_type": "markdown",
   "metadata": {},
   "source": [
    "* #### Variable type####\n",
    "The type() function shows a variable's type."
   ]
  },
  {
   "cell_type": "code",
   "execution_count": 14,
   "metadata": {},
   "outputs": [
    {
     "data": {
      "text/plain": [
       "int"
      ]
     },
     "execution_count": 14,
     "metadata": {},
     "output_type": "execute_result"
    }
   ],
   "source": [
    "type(x)"
   ]
  },
  {
   "cell_type": "code",
   "execution_count": 15,
   "metadata": {},
   "outputs": [
    {
     "data": {
      "text/plain": [
       "float"
      ]
     },
     "execution_count": 15,
     "metadata": {},
     "output_type": "execute_result"
    }
   ],
   "source": [
    "type(y)"
   ]
  },
  {
   "cell_type": "code",
   "execution_count": 16,
   "metadata": {},
   "outputs": [
    {
     "data": {
      "text/plain": [
       "str"
      ]
     },
     "execution_count": 16,
     "metadata": {},
     "output_type": "execute_result"
    }
   ],
   "source": [
    "type(a)"
   ]
  },
  {
   "cell_type": "code",
   "execution_count": 17,
   "metadata": {},
   "outputs": [
    {
     "data": {
      "text/plain": [
       "bool"
      ]
     },
     "execution_count": 17,
     "metadata": {},
     "output_type": "execute_result"
    }
   ],
   "source": [
    "type(b)"
   ]
  },
  {
   "cell_type": "markdown",
   "metadata": {},
   "source": [
    "* #### Operations among different types of data ####"
   ]
  },
  {
   "cell_type": "code",
   "execution_count": 18,
   "metadata": {},
   "outputs": [
    {
     "name": "stdout",
     "output_type": "stream",
     "text": [
      "Hello World\n"
     ]
    }
   ],
   "source": [
    "# Use '+' for string concatenation.\n",
    "a = \"Hello \"\n",
    "b = \"World\"\n",
    "c = a + b\n",
    "print(c)"
   ]
  },
  {
   "cell_type": "code",
   "execution_count": 19,
   "metadata": {},
   "outputs": [
    {
     "ename": "TypeError",
     "evalue": "can only concatenate str (not \"int\") to str",
     "traceback": [
      "\u001b[0;31m---------------------------------------------------------------------------\u001b[0m",
      "\u001b[0;31mTypeError\u001b[0m                                 Traceback (most recent call last)",
      "\u001b[0;32m<ipython-input-19-a4ece326c84d>\u001b[0m in \u001b[0;36m<module>\u001b[0;34m\u001b[0m\n\u001b[1;32m      4\u001b[0m \u001b[0mc\u001b[0m \u001b[0;34m=\u001b[0m \u001b[0;36m680\u001b[0m\u001b[0;34m\u001b[0m\u001b[0;34m\u001b[0m\u001b[0m\n\u001b[1;32m      5\u001b[0m \u001b[0md\u001b[0m \u001b[0;34m=\u001b[0m \u001b[0;34m\"is great fun!\"\u001b[0m\u001b[0;34m\u001b[0m\u001b[0;34m\u001b[0m\u001b[0m\n\u001b[0;32m----> 6\u001b[0;31m \u001b[0mprint\u001b[0m\u001b[0;34m(\u001b[0m\u001b[0ma\u001b[0m \u001b[0;34m+\u001b[0m \u001b[0mb\u001b[0m \u001b[0;34m+\u001b[0m \u001b[0mc\u001b[0m \u001b[0;34m+\u001b[0m \u001b[0md\u001b[0m\u001b[0;34m)\u001b[0m\u001b[0;34m\u001b[0m\u001b[0;34m\u001b[0m\u001b[0m\n\u001b[0m",
      "\u001b[0;31mTypeError\u001b[0m: can only concatenate str (not \"int\") to str"
     ],
     "output_type": "error"
    }
   ],
   "source": [
    "# Why error? What should we do?\n",
    "a = \"No doubts, \"\n",
    "b = \"COMP \"\n",
    "c = 680 \n",
    "d = \"is great fun!\"\n",
    "print(a + b + c + d)"
   ]
  },
  {
   "cell_type": "code",
   "execution_count": 20,
   "metadata": {},
   "outputs": [
    {
     "name": "stdout",
     "output_type": "stream",
     "text": [
      "<class 'int'>\n",
      "<class 'str'>\n"
     ]
    }
   ],
   "source": [
    "print(type(c))\n",
    "print(type(str(c)))"
   ]
  },
  {
   "cell_type": "code",
   "execution_count": 21,
   "metadata": {},
   "outputs": [
    {
     "name": "stdout",
     "output_type": "stream",
     "text": [
      "No doubts, COMP 680 is great fun!\n"
     ]
    }
   ],
   "source": [
    "# What did we do here to fix the error?\n",
    "a = \"No doubts, \"\n",
    "b = \"COMP \"\n",
    "c = \"680\" \n",
    "d = \" is great fun!\"\n",
    "print(a + b + c + d)"
   ]
  },
  {
   "cell_type": "code",
   "execution_count": 22,
   "metadata": {},
   "outputs": [
    {
     "name": "stdout",
     "output_type": "stream",
     "text": [
      "No doubts, COMP 680 is great fun!\n"
     ]
    }
   ],
   "source": [
    "# We could also use str() funtion to converse \"int\" to \"string\".\n",
    "a = \"No doubts, \"\n",
    "b = \"COMP \"\n",
    "c = 680 \n",
    "d = \" is great fun!\"\n",
    "print(a + b + str(c) + d)"
   ]
  },
  {
   "cell_type": "code",
   "execution_count": 23,
   "metadata": {},
   "outputs": [
    {
     "name": "stdout",
     "output_type": "stream",
     "text": [
      "True\n",
      "False\n",
      "1\n"
     ]
    }
   ],
   "source": [
    "# Arithmetic with boolean variables.\n",
    "a = True\n",
    "b = False\n",
    "print(a)\n",
    "print(b)\n",
    "print(a + b)"
   ]
  },
  {
   "cell_type": "markdown",
   "metadata": {},
   "source": [
    "### Python Lists ###"
   ]
  },
  {
   "cell_type": "markdown",
   "metadata": {},
   "source": [
    "#### What is the list in Python?\n",
    "List is a compound data type for grouping values together."
   ]
  },
  {
   "cell_type": "markdown",
   "metadata": {},
   "source": [
    "- #### Create Lists"
   ]
  },
  {
   "cell_type": "code",
   "execution_count": 24,
   "metadata": {},
   "outputs": [
    {
     "name": "stdout",
     "output_type": "stream",
     "text": [
      "<class 'list'>\n",
      "[3.14, 1.618, 2.718, 1.414]\n"
     ]
    }
   ],
   "source": [
    "# Use \"[\" and \"]\" to include the values in a list.\n",
    "a = 3.14\n",
    "b = 1.618\n",
    "c = 2.718\n",
    "d = 1.414\n",
    "list_1 = [a, b, c, d]\n",
    "print(type(list_1))\n",
    "print(list_1)"
   ]
  },
  {
   "cell_type": "code",
   "execution_count": 25,
   "metadata": {},
   "outputs": [
    {
     "name": "stdout",
     "output_type": "stream",
     "text": [
      "['I love', 680]\n"
     ]
    }
   ],
   "source": [
    "# Different data type could be contained in the same list.\n",
    "a = \"I love\"\n",
    "b = 680\n",
    "list_2 = [a, b]\n",
    "print(list_2)"
   ]
  },
  {
   "cell_type": "code",
   "execution_count": 26,
   "metadata": {},
   "outputs": [
    {
     "name": "stdout",
     "output_type": "stream",
     "text": [
      "[[3.14, 1.618, 2.718, 1.414], ['I love', 680]]\n"
     ]
    }
   ],
   "source": [
    "# The list is one of the data type per se. This means a list\n",
    "# can conctain a list.\n",
    "list_3 = [list_1, list_2]\n",
    "print(list_3)"
   ]
  },
  {
   "cell_type": "markdown",
   "metadata": {},
   "source": [
    "- #### Subsetting List"
   ]
  },
  {
   "cell_type": "code",
   "execution_count": 27,
   "metadata": {},
   "outputs": [
    {
     "name": "stdout",
     "output_type": "stream",
     "text": [
      "1.618\n"
     ]
    }
   ],
   "source": [
    "# You can use \"[]\" to perform subsetting\n",
    "# Index starts from 0, which means list[1] will return the 2nd element\n",
    "print(list_1[1])"
   ]
  },
  {
   "cell_type": "code",
   "execution_count": 28,
   "metadata": {},
   "outputs": [
    {
     "ename": "IndexError",
     "evalue": "list index out of range",
     "traceback": [
      "\u001b[0;31m---------------------------------------------------------------------------\u001b[0m",
      "\u001b[0;31mIndexError\u001b[0m                                Traceback (most recent call last)",
      "\u001b[0;32m<ipython-input-28-efcf8a9d8a2b>\u001b[0m in \u001b[0;36m<module>\u001b[0;34m\u001b[0m\n\u001b[1;32m      1\u001b[0m \u001b[0;31m# Why error?\u001b[0m\u001b[0;34m\u001b[0m\u001b[0;34m\u001b[0m\u001b[0;34m\u001b[0m\u001b[0m\n\u001b[0;32m----> 2\u001b[0;31m \u001b[0mprint\u001b[0m\u001b[0;34m(\u001b[0m\u001b[0mlist_3\u001b[0m\u001b[0;34m[\u001b[0m\u001b[0;36m2\u001b[0m\u001b[0;34m]\u001b[0m\u001b[0;34m)\u001b[0m\u001b[0;34m\u001b[0m\u001b[0;34m\u001b[0m\u001b[0m\n\u001b[0m",
      "\u001b[0;31mIndexError\u001b[0m: list index out of range"
     ],
     "output_type": "error"
    }
   ],
   "source": [
    "# Why error?\n",
    "print(list_3[2])"
   ]
  },
  {
   "cell_type": "code",
   "execution_count": 29,
   "metadata": {},
   "outputs": [
    {
     "name": "stdout",
     "output_type": "stream",
     "text": [
      "[3.14, 1.618, 2.718, 1.414]\n"
     ]
    }
   ],
   "source": [
    "# this will return the first element, remember what it is?\n",
    "print(list_3[0])"
   ]
  },
  {
   "cell_type": "code",
   "execution_count": 30,
   "metadata": {},
   "outputs": [
    {
     "name": "stdout",
     "output_type": "stream",
     "text": [
      "[3.14, 1.618, 2.718, 1.414]\n",
      "1.414\n",
      "2.718\n"
     ]
    }
   ],
   "source": [
    "# How does the \"negative\" index work?\n",
    "print(list_1)\n",
    "print(list_1[-1])\n",
    "# It counts from the last one.\n",
    "print(list_1[-2])"
   ]
  },
  {
   "cell_type": "code",
   "execution_count": 31,
   "metadata": {},
   "outputs": [
    {
     "name": "stdout",
     "output_type": "stream",
     "text": [
      "I love [3.14, 1.618, 2.718, 1.414]\n"
     ]
    }
   ],
   "source": [
    "# Str() function also is applied to the list.\n",
    "print(list_2[0] + \" \" + str(list_1))"
   ]
  },
  {
   "cell_type": "markdown",
   "metadata": {},
   "source": [
    "In addition to accessing list elements one at a time, Python provides concise syntax to access sublists; this is known as slicing:"
   ]
  },
  {
   "cell_type": "code",
   "execution_count": 32,
   "metadata": {},
   "outputs": [
    {
     "name": "stdout",
     "output_type": "stream",
     "text": [
      "[3.14, 1.618]\n"
     ]
    }
   ],
   "source": [
    "# We could also use \":\"  to slice and dice the lists.\n",
    "start = 0\n",
    "end = 2\n",
    "print(list_1[start:end])\n",
    "# Note that, the \"start\" index will be included,\n",
    "# while the \"end\" index is not."
   ]
  },
  {
   "cell_type": "code",
   "execution_count": 33,
   "metadata": {},
   "outputs": [
    {
     "name": "stdout",
     "output_type": "stream",
     "text": [
      "[3.14, 1.618]\n",
      "[1.618, 2.718, 1.414]\n",
      "[3.14, 1.618, 2.718, 1.414]\n"
     ]
    }
   ],
   "source": [
    "# However, the \"start\" and \"end\" index is not necessary.\n",
    "print(list_1[:2])\n",
    "print(list_1[1:])\n",
    "print(list_1[:])"
   ]
  },
  {
   "cell_type": "code",
   "execution_count": 34,
   "metadata": {},
   "outputs": [
    {
     "name": "stdout",
     "output_type": "stream",
     "text": [
      "[[3.14, 1.618, 2.718, 1.414], ['I love', 680]]\n"
     ]
    }
   ],
   "source": [
    "print(list_3)"
   ]
  },
  {
   "cell_type": "code",
   "execution_count": 35,
   "metadata": {},
   "outputs": [
    {
     "name": "stdout",
     "output_type": "stream",
     "text": [
      "1.618\n"
     ]
    }
   ],
   "source": [
    "# It is also possible to subset the lists of lists.\n",
    "print(list_3[0][1])\n",
    "# The first \"[]\" indicates which list are you going to subset.\n",
    "# The second \"[]\" indicates which elements you want in this list."
   ]
  },
  {
   "cell_type": "code",
   "execution_count": 36,
   "metadata": {},
   "outputs": [
    {
     "name": "stdout",
     "output_type": "stream",
     "text": [
      "[[1, 2], [3, 4, 5], [6, 7, 8, 9]]\n",
      "[3, 4]\n"
     ]
    }
   ],
   "source": [
    "# Create a \"three level\" list and perform the subset.\n",
    "x = [[1, 2], [3, 4, 5], [6, 7, 8, 9]]\n",
    "print(x)\n",
    "print(x[1][:2])"
   ]
  },
  {
   "cell_type": "markdown",
   "metadata": {},
   "source": [
    "- #### List Manipulation"
   ]
  },
  {
   "cell_type": "code",
   "execution_count": 37,
   "metadata": {},
   "outputs": [
    {
     "name": "stdout",
     "output_type": "stream",
     "text": [
      "['I love', 680]\n",
      "['I love', 'COMP 680']\n"
     ]
    }
   ],
   "source": [
    "# Replace the list elements.\n",
    "# Here we replaced the 2nd element.\n",
    "print(list_2)\n",
    "list_2[1] = \"COMP 680\"\n",
    "print(list_2)"
   ]
  },
  {
   "cell_type": "code",
   "execution_count": 38,
   "metadata": {},
   "outputs": [
    {
     "name": "stdout",
     "output_type": "stream",
     "text": [
      "[3.14, 1.618, 2.718, 1.414]\n",
      "[3.14, 1.618, -1, 1]\n"
     ]
    }
   ],
   "source": [
    "print(list_1)\n",
    "list_1[2:] = [-1, 1]\n",
    "print(list_1)"
   ]
  },
  {
   "cell_type": "code",
   "execution_count": 39,
   "metadata": {},
   "outputs": [
    {
     "name": "stdout",
     "output_type": "stream",
     "text": [
      "['I love', 'COMP 680', 'More than other classes']\n"
     ]
    }
   ],
   "source": [
    "# Extend a list\n",
    "list_2 = list_2 + [\"More than other classes\"]\n",
    "print(list_2)"
   ]
  },
  {
   "cell_type": "code",
   "execution_count": 40,
   "metadata": {},
   "outputs": [
    {
     "name": "stdout",
     "output_type": "stream",
     "text": [
      "['I love', 'COMP 680']\n"
     ]
    }
   ],
   "source": [
    "# Delete list elements\n",
    "# \"del\" could do this job\n",
    "# which element are we deleting here?\n",
    "del list_2[2]\n",
    "print(list_2)\n"
   ]
  },
  {
   "cell_type": "code",
   "execution_count": 41,
   "metadata": {},
   "outputs": [
    {
     "name": "stdout",
     "output_type": "stream",
     "text": [
      "['I love', 'COMP 680']\n",
      "['I really love', 'COMP 680']\n"
     ]
    }
   ],
   "source": [
    "# Note that, Python is \"Pass by Reference\"\n",
    "list_copy = list_2\n",
    "print(list_copy)\n",
    "\n",
    "# \"Pass by Reference\" means both the original and the copy one refer to the\n",
    "# same memory location. Change either \"original\" or \"copy\" variable will\n",
    "# change the value stored there.\n",
    "list_copy[0] = \"I really love\"\n",
    "print(list_2)"
   ]
  },
  {
   "cell_type": "markdown",
   "metadata": {},
   "source": [
    "- #### Sorting"
   ]
  },
  {
   "cell_type": "markdown",
   "metadata": {},
   "source": [
    "Every Python list has a **sort method** that sorts it in place. If you don't want to mess up your list, yoiu can use the __sorted function__, which returns a new list."
   ]
  },
  {
   "cell_type": "code",
   "execution_count": 42,
   "metadata": {},
   "outputs": [
    {
     "name": "stdout",
     "output_type": "stream",
     "text": [
      "[1, 1, 3, 4, 5]\n"
     ]
    }
   ],
   "source": [
    "# Example\n",
    "x = [3, 1, 4, 1, 5]\n",
    "y = sorted(x)\n",
    "print(y)"
   ]
  },
  {
   "cell_type": "code",
   "execution_count": 43,
   "metadata": {},
   "outputs": [
    {
     "name": "stdout",
     "output_type": "stream",
     "text": [
      "[1, 1, 3, 4, 5]\n"
     ]
    }
   ],
   "source": [
    "# This will sort x itself\n",
    "x.sort()\n",
    "print(x)"
   ]
  },
  {
   "cell_type": "markdown",
   "metadata": {},
   "source": [
    "By default, **sort method** (and **sorted function**) sort a list from smallest to largest. If you want elemetns sorted from largest to smallest, you can specfiy a **reverse = True** parameter. And instead of comparing the elemetns themselves, you can compare the results of a function that you specify with **key**:"
   ]
  },
  {
   "cell_type": "code",
   "execution_count": 44,
   "metadata": {},
   "outputs": [
    {
     "name": "stdout",
     "output_type": "stream",
     "text": [
      "[-9, 7, -4, 3]\n"
     ]
    }
   ],
   "source": [
    "# sort the list by absolute value from largest to smallest\n",
    "x = sorted([-9, 3, 7, -4], key = abs, reverse = True)\n",
    "print(x)"
   ]
  },
  {
   "cell_type": "markdown",
   "metadata": {},
   "source": [
    "- #### Python Dictionary\n",
    "\n",
    "Dictionaries are used to store data values in {key:value} pairs. A dictionary is a collection which is ordered, changeable and does not allow duplicates.\n",
    "\n",
    "Dictionaries are written with curly brackets, and have keys and values:"
   ]
  },
  {
   "cell_type": "code",
   "execution_count": 45,
   "metadata": {},
   "outputs": [
    {
     "data": {
      "text/plain": [
       "{'apple': 'red', 'orange': 'orange', 'banana': 'yellow', 'raspberry': 'pink'}"
      ]
     },
     "execution_count": 45,
     "metadata": {},
     "output_type": "execute_result"
    }
   ],
   "source": [
    "fruit = {'apple':'red','orange':'orange','banana':'yellow','raspberry':'pink'}\n",
    "fruit"
   ]
  },
  {
   "cell_type": "code",
   "execution_count": 46,
   "metadata": {},
   "outputs": [
    {
     "data": {
      "text/plain": [
       "{2: 4, 4: 16, 6: 36, 8: 64}"
      ]
     },
     "execution_count": 46,
     "metadata": {},
     "output_type": "execute_result"
    }
   ],
   "source": [
    "xsq = {x: x**2 for x in (2, 4, 6, 8)}\n",
    "xsq"
   ]
  },
  {
   "cell_type": "markdown",
   "metadata": {},
   "source": [
    "### Functions"
   ]
  },
  {
   "cell_type": "markdown",
   "metadata": {},
   "source": [
    "- #### Familiar function"
   ]
  },
  {
   "cell_type": "code",
   "execution_count": 47,
   "metadata": {},
   "outputs": [
    {
     "name": "stdout",
     "output_type": "stream",
     "text": [
      "False\n",
      "True\n",
      "True\n"
     ]
    }
   ],
   "source": [
    "# We have already use many functions\n",
    "# print(), type()\n",
    "# We could use str(), int(), bool(), float() to switch between\n",
    "# different data types.\n",
    "a = 0\n",
    "b = 1\n",
    "c = -10\n",
    "print(bool(a)); print(bool(b)); print(bool(c))"
   ]
  },
  {
   "cell_type": "code",
   "execution_count": 48,
   "metadata": {},
   "outputs": [
    {
     "name": "stdout",
     "output_type": "stream",
     "text": [
      "Help on class type in module builtins:\n",
      "\n",
      "class type(object)\n",
      " |  type(object_or_name, bases, dict)\n",
      " |  type(object) -> the object's type\n",
      " |  type(name, bases, dict) -> a new type\n",
      " |  \n",
      " |  Methods defined here:\n",
      " |  \n",
      " |  __call__(self, /, *args, **kwargs)\n",
      " |      Call self as a function.\n",
      " |  \n",
      " |  __delattr__(self, name, /)\n",
      " |      Implement delattr(self, name).\n",
      " |  \n",
      " |  __dir__(self, /)\n",
      " |      Specialized __dir__ implementation for types.\n",
      " |  \n",
      " |  __getattribute__(self, name, /)\n",
      " |      Return getattr(self, name).\n",
      " |  \n",
      " |  __init__(self, /, *args, **kwargs)\n",
      " |      Initialize self.  See help(type(self)) for accurate signature.\n",
      " |  \n",
      " |  __instancecheck__(self, instance, /)\n",
      " |      Check if an object is an instance.\n",
      " |  \n",
      " |  __repr__(self, /)\n",
      " |      Return repr(self).\n",
      " |  \n",
      " |  __setattr__(self, name, value, /)\n",
      " |      Implement setattr(self, name, value).\n",
      " |  \n",
      " |  __sizeof__(self, /)\n",
      " |      Return memory consumption of the type object.\n",
      " |  \n",
      " |  __subclasscheck__(self, subclass, /)\n",
      " |      Check if a class is a subclass.\n",
      " |  \n",
      " |  __subclasses__(self, /)\n",
      " |      Return a list of immediate subclasses.\n",
      " |  \n",
      " |  mro(self, /)\n",
      " |      Return a type's method resolution order.\n",
      " |  \n",
      " |  ----------------------------------------------------------------------\n",
      " |  Class methods defined here:\n",
      " |  \n",
      " |  __prepare__(...)\n",
      " |      __prepare__() -> dict\n",
      " |      used to create the namespace for the class statement\n",
      " |  \n",
      " |  ----------------------------------------------------------------------\n",
      " |  Static methods defined here:\n",
      " |  \n",
      " |  __new__(*args, **kwargs)\n",
      " |      Create and return a new object.  See help(type) for accurate signature.\n",
      " |  \n",
      " |  ----------------------------------------------------------------------\n",
      " |  Data descriptors defined here:\n",
      " |  \n",
      " |  __abstractmethods__\n",
      " |  \n",
      " |  __dict__\n",
      " |  \n",
      " |  __text_signature__\n",
      " |  \n",
      " |  ----------------------------------------------------------------------\n",
      " |  Data and other attributes defined here:\n",
      " |  \n",
      " |  __base__ = <class 'object'>\n",
      " |      The base class of the class hierarchy.\n",
      " |      \n",
      " |      When called, it accepts no arguments and returns a new featureless\n",
      " |      instance that has no instance attributes and cannot be given any.\n",
      " |  \n",
      " |  __bases__ = (<class 'object'>,)\n",
      " |  \n",
      " |  __basicsize__ = 880\n",
      " |  \n",
      " |  __dictoffset__ = 264\n",
      " |  \n",
      " |  __flags__ = 2148291584\n",
      " |  \n",
      " |  __itemsize__ = 40\n",
      " |  \n",
      " |  __mro__ = (<class 'type'>, <class 'object'>)\n",
      " |  \n",
      " |  __weakrefoffset__ = 368\n",
      "\n"
     ]
    }
   ],
   "source": [
    "# help() function and \"?\"\n",
    "#\n",
    "help(type)"
   ]
  },
  {
   "cell_type": "code",
   "execution_count": 49,
   "metadata": {},
   "outputs": [],
   "source": [
    "# We could also use \"?\"\n",
    "?type"
   ]
  },
  {
   "cell_type": "code",
   "execution_count": 50,
   "metadata": {},
   "outputs": [
    {
     "name": "stdout",
     "output_type": "stream",
     "text": [
      "[-1, 1, 1.618, 3.14]\n"
     ]
    }
   ],
   "source": [
    "# More functions\n",
    "# Sorted() function\n",
    "\n",
    "print(sorted(list_1))"
   ]
  },
  {
   "cell_type": "code",
   "execution_count": 51,
   "metadata": {},
   "outputs": [
    {
     "data": {
      "text/plain": [
       "3.14"
      ]
     },
     "execution_count": 51,
     "metadata": {},
     "output_type": "execute_result"
    }
   ],
   "source": [
    "# max() function: return the maximun element in a list\n",
    "max(list_1)"
   ]
  },
  {
   "cell_type": "code",
   "execution_count": 52,
   "metadata": {},
   "outputs": [
    {
     "data": {
      "text/plain": [
       "2"
      ]
     },
     "execution_count": 52,
     "metadata": {},
     "output_type": "execute_result"
    }
   ],
   "source": [
    "# len() function: return the length (number of elements) of a list\n",
    "len(list_2)"
   ]
  },
  {
   "cell_type": "markdown",
   "metadata": {},
   "source": [
    "- #### Methods"
   ]
  },
  {
   "cell_type": "markdown",
   "metadata": {},
   "source": [
    "Method and function are identical in most respects. Hoever, one of the difference between \"Method\" and \"Function\" is that Method is called for a specific object:\n",
    "- Always use \"Object.Method_Name\" to followe the objects."
   ]
  },
  {
   "cell_type": "code",
   "execution_count": 53,
   "metadata": {},
   "outputs": [
    {
     "data": {
      "text/plain": [
       "'I WANT TO BE A STATISTICIAN.'"
      ]
     },
     "execution_count": 53,
     "metadata": {},
     "output_type": "execute_result"
    }
   ],
   "source": [
    "# String methods\n",
    "# upper()\n",
    "a = \"i want to be a statistician.\"\n",
    "a.upper()"
   ]
  },
  {
   "cell_type": "code",
   "execution_count": 54,
   "metadata": {},
   "outputs": [
    {
     "data": {
      "text/plain": [
       "'i want to be a statistician.'"
      ]
     },
     "execution_count": 54,
     "metadata": {},
     "output_type": "execute_result"
    }
   ],
   "source": [
    "# lower()\n",
    "a.upper().lower()"
   ]
  },
  {
   "cell_type": "code",
   "execution_count": 55,
   "metadata": {},
   "outputs": [
    {
     "data": {
      "text/plain": [
       "2"
      ]
     },
     "execution_count": 55,
     "metadata": {},
     "output_type": "execute_result"
    }
   ],
   "source": [
    "# count()\n",
    "a.count(\"n\")"
   ]
  },
  {
   "cell_type": "code",
   "execution_count": 56,
   "metadata": {},
   "outputs": [
    {
     "name": "stdout",
     "output_type": "stream",
     "text": [
      "[3.14, 1.618, -1, 1]\n"
     ]
    }
   ],
   "source": [
    "print(list_1)"
   ]
  },
  {
   "cell_type": "code",
   "execution_count": 57,
   "metadata": {},
   "outputs": [
    {
     "name": "stdout",
     "output_type": "stream",
     "text": [
      "[3.14, 1.618, -1, 1]\n"
     ]
    },
    {
     "data": {
      "text/plain": [
       "0"
      ]
     },
     "execution_count": 57,
     "metadata": {},
     "output_type": "execute_result"
    }
   ],
   "source": [
    "# List methods\n",
    "# list.index(element): return the index of a particular element\n",
    "print(list_1)\n",
    "list_1.index(3.14)\n",
    "# Again, the first element is indexed by 0 rather than 1."
   ]
  },
  {
   "cell_type": "code",
   "execution_count": 58,
   "metadata": {},
   "outputs": [
    {
     "data": {
      "text/plain": [
       "1"
      ]
     },
     "execution_count": 58,
     "metadata": {},
     "output_type": "execute_result"
    }
   ],
   "source": [
    "# list.count(value): count how many elements have a particular value\n",
    "list_1.count(1.618)"
   ]
  },
  {
   "cell_type": "code",
   "execution_count": 59,
   "metadata": {},
   "outputs": [
    {
     "name": "stdout",
     "output_type": "stream",
     "text": [
      "['I really love', 'COMP 680', 'Class']\n"
     ]
    }
   ],
   "source": [
    "# list.append(element or list): append extra element or list to original list\n",
    "list_2.append(\"Class\")\n",
    "print(list_2)"
   ]
  },
  {
   "cell_type": "code",
   "execution_count": 60,
   "metadata": {},
   "outputs": [
    {
     "name": "stdout",
     "output_type": "stream",
     "text": [
      "['I really love', 'COMP 680']\n"
     ]
    }
   ],
   "source": [
    "# list.remove(element): remove a particular element\n",
    "list_2.remove(\"Class\")\n",
    "print(list_2)"
   ]
  },
  {
   "cell_type": "code",
   "execution_count": 61,
   "metadata": {},
   "outputs": [
    {
     "name": "stdout",
     "output_type": "stream",
     "text": [
      "[3.14, 1.618, -1, 1]\n",
      "[1, -1, 1.618, 3.14]\n"
     ]
    }
   ],
   "source": [
    "# list.reverse(): reverse the order of all elements\n",
    "print(list_1)\n",
    "list_1.reverse()\n",
    "print(list_1)"
   ]
  },
  {
   "cell_type": "markdown",
   "metadata": {},
   "source": [
    "### Python Libraries"
   ]
  },
  {
   "cell_type": "markdown",
   "metadata": {},
   "source": [
    "- #### Also known as Package or Module #####\n",
    "Python, like other programming languages, has an abundance of additional modules or libraries that augument the base framework and functionality of the language. A module is a collection of functions that can be accessed to complete certain programming tasks without having to write your own algorithm.\n",
    "There are many useful packages for Python, we will use primarily on the following libraries:\n",
    "\n",
    "* **Numpy** is a library for working with arrays of data.\n",
    "\n",
    "* **Pandas** provides high-performance, easy-to-use data structures and data analysis tools.\n",
    "\n",
    "* **Matplotlib** is a library for making graphs.\n",
    "\n",
    "* **Seaborn** is a higher-level interface to Matplotlib that can be used to simplify many graphing tasks.\n",
    "\n",
    "* **Scipy** is a library of techniques for numerical and scientific computing.\n",
    "\n",
    "* **Statsmodels** is a library that implements many statistical techniques.\n",
    "\n"
   ]
  },
  {
   "cell_type": "markdown",
   "metadata": {},
   "source": [
    "### Documentation\n",
    "\n",
    "Reliable and accesible documentation is an absolute necessity when it comes to knowledge transfer of programming languages.  Luckily, python provides a significant amount of detailed documentation that explains the ins and outs of the language syntax, libraries, and more.  \n",
    "\n",
    "Understanding how to read documentation is crucial for any programmer as it will serve as a fantastic resource when learning the intricacies of python.\n",
    "\n",
    "Here is the link to the documentation of the python standard library: [Python Standard Library](https://docs.python.org/3/library/index.html#library-index)"
   ]
  },
  {
   "cell_type": "markdown",
   "metadata": {},
   "source": [
    "- #### math ####\n",
    "The [math](https://docs.python.org/3/library/math.html#) module provides access to some mathematical functions and special numbers such as $\\pi$."
   ]
  },
  {
   "cell_type": "code",
   "execution_count": 62,
   "metadata": {},
   "outputs": [
    {
     "ename": "NameError",
     "evalue": "name 'pi' is not defined",
     "traceback": [
      "\u001b[0;31m---------------------------------------------------------------------------\u001b[0m",
      "\u001b[0;31mNameError\u001b[0m                                 Traceback (most recent call last)",
      "\u001b[0;32m<ipython-input-62-0fcf945f6f43>\u001b[0m in \u001b[0;36m<module>\u001b[0;34m\u001b[0m\n\u001b[1;32m      1\u001b[0m \u001b[0;31m# Why error?\u001b[0m\u001b[0;34m\u001b[0m\u001b[0;34m\u001b[0m\u001b[0;34m\u001b[0m\u001b[0m\n\u001b[0;32m----> 2\u001b[0;31m \u001b[0mprint\u001b[0m\u001b[0;34m(\u001b[0m\u001b[0mpi\u001b[0m\u001b[0;34m)\u001b[0m\u001b[0;34m\u001b[0m\u001b[0;34m\u001b[0m\u001b[0m\n\u001b[0m",
      "\u001b[0;31mNameError\u001b[0m: name 'pi' is not defined"
     ],
     "output_type": "error"
    }
   ],
   "source": [
    "# Why error?\n",
    "print(pi)"
   ]
  },
  {
   "cell_type": "markdown",
   "metadata": {},
   "source": [
    "### Importing Libraries\n",
    "\n",
    "When using Python, you must always begin your scripts by importing the libraries that you will be using. "
   ]
  },
  {
   "cell_type": "code",
   "execution_count": 63,
   "metadata": {},
   "outputs": [
    {
     "name": "stdout",
     "output_type": "stream",
     "text": [
      "3.141592653589793\n"
     ]
    }
   ],
   "source": [
    "# import math, make all functionality from \"math\" available.\n",
    "import math\n",
    "print(math.pi)"
   ]
  },
  {
   "cell_type": "code",
   "execution_count": 64,
   "metadata": {},
   "outputs": [
    {
     "name": "stdout",
     "output_type": "stream",
     "text": [
      "3.141592653589793\n"
     ]
    }
   ],
   "source": [
    "# from and import function to import a particular \"object\" from\n",
    "# a specific package.\n",
    "\n",
    "from math import pi\n",
    "print(pi)\n"
   ]
  },
  {
   "cell_type": "markdown",
   "metadata": {},
   "source": [
    "- #### NumPy ####\n",
    "NumPy (short for *Numerical Python*) is a powerful package to do data science. It provides an efficient interface to store and operate dense data buffers, and it could help us perform mathmatical operation on vectors, matrices and arrays.\n"
   ]
  },
  {
   "cell_type": "code",
   "execution_count": 65,
   "metadata": {},
   "outputs": [
    {
     "data": {
      "text/plain": [
       "'1.18.5'"
      ]
     },
     "execution_count": 65,
     "metadata": {},
     "output_type": "execute_result"
    }
   ],
   "source": [
    "import numpy\n",
    "# We could also check the current NumPy version\n",
    "numpy.version.version\n"
   ]
  },
  {
   "cell_type": "code",
   "execution_count": 66,
   "metadata": {},
   "outputs": [
    {
     "data": {
      "text/plain": [
       "'1.18.5'"
      ]
     },
     "execution_count": 66,
     "metadata": {},
     "output_type": "execute_result"
    }
   ],
   "source": [
    "# We could also create an \"alias\" for our convience.\n",
    "# Here, we use \"np\" to stand for NumPy.\n",
    "import numpy as np\n",
    "\n",
    "# The same result.\n",
    "np.version.version"
   ]
  },
  {
   "cell_type": "code",
   "execution_count": 67,
   "metadata": {},
   "outputs": [
    {
     "name": "stdout",
     "output_type": "stream",
     "text": [
      "[1 2 3 4 5]\n",
      "1\n",
      "1\n",
      "5\n",
      "5\n",
      "(5,)\n",
      "(5,)\n",
      "3.0\n",
      "3.0\n",
      "1.4142135623730951\n",
      "1.4142135623730951\n"
     ]
    }
   ],
   "source": [
    "# An example one-dimensional Numpy array. \n",
    "# By default, the numbers are considered integers.\n",
    "a = np.array([1,2,3,4,5])\n",
    "print(a)\n",
    "\n",
    "print(a.ndim)\n",
    "print(np.ndim(a))\n",
    "\n",
    "print(a.size)\n",
    "print(np.size(a))\n",
    "\n",
    "print(a.shape)\n",
    "print(np.shape(a))\n",
    "\n",
    "\n",
    "print(a.mean())\n",
    "print(np.mean(a))\n",
    "\n",
    "print(a.std())\n",
    "print(np.std(a))"
   ]
  },
  {
   "cell_type": "code",
   "execution_count": 68,
   "metadata": {},
   "outputs": [
    {
     "name": "stdout",
     "output_type": "stream",
     "text": [
      "[1. 2. 3. 4. 5.]\n",
      "1\n",
      "5\n",
      "(5,)\n",
      "float64\n"
     ]
    }
   ],
   "source": [
    "# Can instead specify that values are floats.\n",
    "a = np.array([1,2,3,4,5], dtype = np.float64)\n",
    "print(a)\n",
    "print(a.ndim)\n",
    "print(a.size)\n",
    "print(a.shape)\n",
    "print(a.dtype)"
   ]
  },
  {
   "cell_type": "code",
   "execution_count": 69,
   "metadata": {},
   "outputs": [
    {
     "name": "stdout",
     "output_type": "stream",
     "text": [
      "[[ 1.  2.  3.  4.  5.]\n",
      " [ 6.  7.  8.  9. 10.]]\n",
      "2 10 (2, 5) float64\n",
      "10.0\n",
      "10.0\n"
     ]
    }
   ],
   "source": [
    "# A two-dimensional Numpy array.\n",
    "# This is a 2x5 matrix.\n",
    "b = np.array([[1,2,3,4,5],[6,7,8,9,10]],dtype=np.float64)\n",
    "print(b)\n",
    "print(b.ndim, b.size, b.shape, b.dtype)\n",
    "# ndim: the dimension of Numpy array, 1-dim is a vector, \n",
    "# 2-dim is a matrix, >2-dim is a tensor\n",
    "# size: total number of elements\n",
    "# shape: for 1-d array shape is the same as the size, i.e. the number of elements in the vector;\n",
    "#        for 2-d array shape is (number of rows, number of columns); \n",
    "\n",
    "# Subsetting\n",
    "print(b[1][-1])\n",
    "print(b[1, -1])"
   ]
  },
  {
   "cell_type": "code",
   "execution_count": 70,
   "metadata": {},
   "outputs": [
    {
     "data": {
      "text/plain": [
       "array([[0., 0., 0.],\n",
       "       [0., 0., 0.],\n",
       "       [0., 0., 0.]])"
      ]
     },
     "execution_count": 70,
     "metadata": {},
     "output_type": "execute_result"
    }
   ],
   "source": [
    "# Create an array of zeros.\n",
    "# A 3x3 matrix of all zeros.\n",
    "np.zeros((3,3), dtype=np.float64)"
   ]
  },
  {
   "cell_type": "code",
   "execution_count": 71,
   "metadata": {},
   "outputs": [
    {
     "name": "stdout",
     "output_type": "stream",
     "text": [
      "[ 0.   2.5  5.   7.5 10. ]\n",
      "[ 0.   2.5  5.   7.5 10. ]\n"
     ]
    }
   ],
   "source": [
    "# Create regularly-spaced numbers on an interval:\n",
    "# use'linspace' if you want to specify the number of values to create \n",
    "# use 'arange' if you want to specify the step length. \n",
    "# Notice that 'linspace' includes the final endpoint while 'arange' does not!\n",
    "print(np.linspace(0, 10, 5))\n",
    "print(np.arange(0, 12.5, 2.5))"
   ]
  },
  {
   "cell_type": "markdown",
   "metadata": {},
   "source": [
    "- #### Rnadomness"
   ]
  },
  {
   "cell_type": "markdown",
   "metadata": {},
   "source": [
    "As we learn data science, will frequently need to generate random numbers, which we can do with the **random** module."
   ]
  },
  {
   "cell_type": "code",
   "execution_count": 72,
   "metadata": {},
   "outputs": [
    {
     "name": "stdout",
     "output_type": "stream",
     "text": [
      "[0.07452248815482632, 0.33526778826304426, 0.1547058771667985, 0.02259735206454805, 0.35127559481875625]\n"
     ]
    }
   ],
   "source": [
    "import random\n",
    "# random.random() produces numbers uniformly between 0 and 1\n",
    "# if you run this cell multiple times, you get different numbers\n",
    "five_uniform_randoms = [random.random() for i in range(5)]\n",
    "print(five_uniform_randoms)"
   ]
  },
  {
   "cell_type": "code",
   "execution_count": 73,
   "metadata": {},
   "outputs": [
    {
     "name": "stdout",
     "output_type": "stream",
     "text": [
      "0.8363375023320742\n",
      "0.8363375023320742\n"
     ]
    }
   ],
   "source": [
    "# You can set with random.seed if you want to get reproducible results.\n",
    "random.seed(2021)\n",
    "print(random.random())\n",
    "random.seed(2021)\n",
    "print(random.random())"
   ]
  },
  {
   "cell_type": "code",
   "execution_count": 74,
   "metadata": {},
   "outputs": [
    {
     "name": "stdout",
     "output_type": "stream",
     "text": [
      "4\n"
     ]
    }
   ],
   "source": [
    "# The random.randrange() returns an element chosen randomly from the corresponding range():\n",
    "# E.g., choose randomly from range(5) = [0, 1, 2, 3, 4]\n",
    "print(random.randrange(5))"
   ]
  },
  {
   "cell_type": "code",
   "execution_count": 75,
   "metadata": {},
   "outputs": [
    {
     "name": "stdout",
     "output_type": "stream",
     "text": [
      "[1, 2, 3, 4, 5]\n",
      "[4, 1, 5, 2, 3]\n"
     ]
    }
   ],
   "source": [
    "# random.shuffle() randomly reorders the elements of a list.\n",
    "x = [1, 2, 3, 4, 5]\n",
    "print(x)\n",
    "random.shuffle(x)\n",
    "print(x)"
   ]
  },
  {
   "cell_type": "code",
   "execution_count": 76,
   "metadata": {},
   "outputs": [
    {
     "name": "stdout",
     "output_type": "stream",
     "text": [
      "Bob\n"
     ]
    }
   ],
   "source": [
    "# if you need to randomly pick one element from a list you can use random.choice:\n",
    "my_best_friend = random.choice([\"Alice\", \"Bob\", \"Charlie\"])\n",
    "print(my_best_friend)"
   ]
  },
  {
   "cell_type": "code",
   "execution_count": 77,
   "metadata": {},
   "outputs": [
    {
     "name": "stdout",
     "output_type": "stream",
     "text": [
      "[60, 73, 8, 40, 34, 37, 9, 20, 21, 6]\n"
     ]
    }
   ],
   "source": [
    "# If you need to randomly choose a sample of elements without replacement\n",
    "# you can use random.sample()\n",
    "# this generate 10 random numbers from integers 0 to 99\n",
    "without_replacement = random.sample(range(100), 10)\n",
    "print(without_replacement)"
   ]
  },
  {
   "cell_type": "code",
   "execution_count": 78,
   "metadata": {},
   "outputs": [
    {
     "name": "stdout",
     "output_type": "stream",
     "text": [
      "[95, 13, 86, 91, 70, 37, 6, 68, 87, 59]\n"
     ]
    }
   ],
   "source": [
    "# If you need to randomly choose a sample of elements with replacement (i.e., possible duplicates),\n",
    "# you can just make multiple calls to random.choice()\n",
    "with_replacement = [random.choice(range(100))\n",
    "                    for i in range(10)]\n",
    "print(with_replacement)"
   ]
  },
  {
   "cell_type": "code",
   "execution_count": 79,
   "metadata": {},
   "outputs": [
    {
     "name": "stdout",
     "output_type": "stream",
     "text": [
      "[[14], [25], [77], [81], [56], [81], [35], [67], [43], [85]]\n"
     ]
    }
   ],
   "source": [
    "# You may consider make multiple calls to random.sample(), but what is the difference?\n",
    "with_replacement = [random.sample(range(100), 1) \n",
    "                    for i in range(10)]\n",
    "print(with_replacement)"
   ]
  },
  {
   "cell_type": "code",
   "execution_count": 80,
   "metadata": {},
   "outputs": [
    {
     "name": "stdout",
     "output_type": "stream",
     "text": [
      "[[ 1.48860905  0.67601087 -0.41845137 -0.80652081]\n",
      " [ 0.55587583 -0.70550429  1.13085826  0.64500184]]\n",
      "[ 1.48860905  0.67601087 -0.41845137 -0.80652081  0.55587583 -0.70550429\n",
      "  1.13085826  0.64500184]\n",
      "[[ 1.48860905  0.67601087 -0.41845137 -0.80652081]\n",
      " [ 0.55587583 -0.70550429  1.13085826  0.64500184]]\n"
     ]
    }
   ],
   "source": [
    "# Generate random numbers from the standard normal distribution\n",
    "# using two approaches:  \n",
    "# Note that I set the random number generator 'seed' before each call, \n",
    "# this ensures we get the same numbers.\n",
    "np.random.seed(2021)\n",
    "# sample from standard normal and put in shape of 2x4 matrix\n",
    "print(np.random.standard_normal([2, 4]))\n",
    "\n",
    "np.random.seed(2021)\n",
    "# sample 8 numbers from normal with mean=0 and standard deviation=1\n",
    "tmp = np.random.normal(0, 1, 8)\n",
    "print(tmp)\n",
    "# put that 8 numbers in shape of 2x4 matrix\n",
    "print(np.reshape(tmp, [2, 4]))"
   ]
  },
  {
   "cell_type": "code",
   "execution_count": 81,
   "metadata": {},
   "outputs": [
    {
     "name": "stdout",
     "output_type": "stream",
     "text": [
      "[[ 0.10641374  0.42215483  0.12420684]\n",
      " [-0.83795346  0.4090157   0.10275122]] [[-1.90772239  1.1002243  -1.40232506]\n",
      " [-0.22508127 -1.33620597  0.30372151]]\n",
      "[[ 0.10641374  0.42215483  0.12420684]\n",
      " [-0.83795346  0.4090157   0.10275122]\n",
      " [-1.90772239  1.1002243  -1.40232506]\n",
      " [-0.22508127 -1.33620597  0.30372151]]\n",
      "[[ 0.10641374  0.42215483  0.12420684 -1.90772239  1.1002243  -1.40232506]\n",
      " [-0.83795346  0.4090157   0.10275122 -0.22508127 -1.33620597  0.30372151]]\n"
     ]
    }
   ],
   "source": [
    "# 'Stacking' arrays together. \n",
    "# 'vstack' to stack vertically.\n",
    "# 'hstack' to stack horizontally. \n",
    "a = np.random.standard_normal((2,3))\n",
    "b = np.random.standard_normal((2,3))\n",
    "\n",
    "print(a, b)\n",
    "print(np.vstack([a,b]))\n",
    "print(np.hstack([a,b]))"
   ]
  },
  {
   "cell_type": "code",
   "execution_count": 82,
   "metadata": {},
   "outputs": [
    {
     "name": "stdout",
     "output_type": "stream",
     "text": [
      "[[ 0.10641374  0.42215483  0.12420684]\n",
      " [-0.83795346  0.4090157   0.10275122]]\n",
      "[[ 0.10641374 -0.83795346]\n",
      " [ 0.42215483  0.4090157 ]\n",
      " [ 0.12420684  0.10275122]]\n"
     ]
    }
   ],
   "source": [
    "# Transpose an array.\n",
    "print(a)\n",
    "print(a.transpose())"
   ]
  },
  {
   "cell_type": "code",
   "execution_count": 83,
   "metadata": {},
   "outputs": [],
   "source": [
    "# Save an array to file.\n",
    "np.save('example.npy',a)"
   ]
  },
  {
   "cell_type": "code",
   "execution_count": 84,
   "metadata": {},
   "outputs": [
    {
     "name": "stdout",
     "output_type": "stream",
     "text": [
      "[[ 0.10641374  0.42215483  0.12420684]\n",
      " [-0.83795346  0.4090157   0.10275122]]\n"
     ]
    }
   ],
   "source": [
    "# Load an array from file.\n",
    "a_in = np.load('example.npy')\n",
    "print(a_in)"
   ]
  },
  {
   "cell_type": "markdown",
   "metadata": {
    "collapsed": true
   },
   "source": [
    "- #### Some difference compared to the regular Python list.\n",
    " - numpy array cannot contain element with different types.\n",
    " - The typical arithmatic operators (+, -, *, /) have different meaning."
   ]
  },
  {
   "cell_type": "code",
   "execution_count": 85,
   "metadata": {},
   "outputs": [
    {
     "name": "stdout",
     "output_type": "stream",
     "text": [
      "[1 1]\n",
      "[True, 1]\n"
     ]
    }
   ],
   "source": [
    "# If try to build a list with different data type, some of the \n",
    "# elements' types are changed to end up with a homogeneous list.\n",
    "# This is known as type coercion.\n",
    "\n",
    "# NumPy array\n",
    "print(np.array([True, 1]))\n",
    "# Regular Python list\n",
    "print([True, 1])"
   ]
  },
  {
   "cell_type": "code",
   "execution_count": 86,
   "metadata": {},
   "outputs": [
    {
     "name": "stdout",
     "output_type": "stream",
     "text": [
      "[1 1]\n",
      "[True, 1, False, 0]\n"
     ]
    }
   ],
   "source": [
    "# NumPy array\n",
    "print(np.array([True, 1]) + np.array([False, 0]))\n",
    "\n",
    "# Regular Python list\n",
    "print([True, 1] + [False, 0])"
   ]
  },
  {
   "cell_type": "code",
   "execution_count": 87,
   "metadata": {},
   "outputs": [
    {
     "name": "stdout",
     "output_type": "stream",
     "text": [
      "[[ 0.10641374  0.42215483  0.12420684]\n",
      " [-0.83795346  0.4090157   0.10275122]]\n",
      "[[-1.90772239  1.1002243  -1.40232506]\n",
      " [-0.22508127 -1.33620597  0.30372151]]\n",
      "[[-1.80130865  1.52237913 -1.27811822]\n",
      " [-1.06303473 -0.92719026  0.40647273]]\n"
     ]
    }
   ],
   "source": [
    "# For two-dimensional NumPy array.\n",
    "print(a)\n",
    "print(b)\n",
    "print(a + b)"
   ]
  },
  {
   "cell_type": "code",
   "execution_count": 88,
   "metadata": {
    "scrolled": true
   },
   "outputs": [
    {
     "ename": "ValueError",
     "evalue": "operands could not be broadcast together with shapes (6,) (2,3) ",
     "traceback": [
      "\u001b[0;31m---------------------------------------------------------------------------\u001b[0m",
      "\u001b[0;31mValueError\u001b[0m                                Traceback (most recent call last)",
      "\u001b[0;32m<ipython-input-88-fba92a9509cd>\u001b[0m in \u001b[0;36m<module>\u001b[0;34m\u001b[0m\n\u001b[1;32m      1\u001b[0m \u001b[0;31m# Why error?\u001b[0m\u001b[0;34m\u001b[0m\u001b[0;34m\u001b[0m\u001b[0;34m\u001b[0m\u001b[0m\n\u001b[1;32m      2\u001b[0m \u001b[0ma\u001b[0m \u001b[0;34m=\u001b[0m \u001b[0mnp\u001b[0m\u001b[0;34m.\u001b[0m\u001b[0marray\u001b[0m\u001b[0;34m(\u001b[0m\u001b[0;34m[\u001b[0m\u001b[0;36m1\u001b[0m\u001b[0;34m,\u001b[0m \u001b[0;36m2\u001b[0m\u001b[0;34m,\u001b[0m \u001b[0;36m3\u001b[0m\u001b[0;34m,\u001b[0m \u001b[0;36m4\u001b[0m\u001b[0;34m,\u001b[0m \u001b[0;36m5\u001b[0m\u001b[0;34m,\u001b[0m \u001b[0;36m6\u001b[0m\u001b[0;34m]\u001b[0m\u001b[0;34m)\u001b[0m\u001b[0;34m\u001b[0m\u001b[0;34m\u001b[0m\u001b[0m\n\u001b[0;32m----> 3\u001b[0;31m \u001b[0mprint\u001b[0m\u001b[0;34m(\u001b[0m\u001b[0ma\u001b[0m \u001b[0;34m+\u001b[0m \u001b[0mb\u001b[0m\u001b[0;34m)\u001b[0m\u001b[0;34m\u001b[0m\u001b[0;34m\u001b[0m\u001b[0m\n\u001b[0m",
      "\u001b[0;31mValueError\u001b[0m: operands could not be broadcast together with shapes (6,) (2,3) "
     ],
     "output_type": "error"
    }
   ],
   "source": [
    "# Why error?\n",
    "a = np.array([1, 2, 3, 4, 5, 6])\n",
    "print(a + b)"
   ]
  },
  {
   "cell_type": "markdown",
   "metadata": {},
   "source": [
    "Here's your real homework starts:P. Please write your code with appropriate comments and informative names. Feel free to insert more cells as you see necessary. "
   ]
  },
  {
   "cell_type": "markdown",
   "metadata": {},
   "source": [
    "**Question 1**:\n",
    "Create four Python variables with different data types."
   ]
  },
  {
   "cell_type": "code",
   "execution_count": 89,
   "metadata": {},
   "outputs": [
    {
     "name": "stdout",
     "output_type": "stream",
     "text": [
      "<class 'float'>\n",
      "<class 'bool'>\n",
      "<class 'str'>\n",
      "<class 'list'>\n"
     ]
    }
   ],
   "source": [
    "# (1) \n",
    "x_1 = 6.2\n",
    "x_2 = True\n",
    "x_3 = 'comp680'\n",
    "x_4 = ['D', 2, 'K']\n",
    "\n",
    "print(type(x_1))\n",
    "print(type(x_2))\n",
    "print(type(x_3))\n",
    "print(type(x_4))"
   ]
  },
  {
   "cell_type": "markdown",
   "metadata": {},
   "source": [
    "**Question 2**:\n",
    "Create a Python list containing 5 numeric values."
   ]
  },
  {
   "cell_type": "code",
   "execution_count": 131,
   "metadata": {},
   "outputs": [
    {
     "name": "stdout",
     "output_type": "stream",
     "text": [
      "[1, 2, 3, 4, 3.14]\n"
     ]
    }
   ],
   "source": [
    "my_list_num = [1, 2, 3, 4, 3.14]\n",
    "print(my_list_num)"
   ]
  },
  {
   "cell_type": "markdown",
   "metadata": {},
   "source": [
    "**Question 3**:\n",
    "Perform an arithmetic operation on a subset of elements in the list you just created."
   ]
  },
  {
   "cell_type": "code",
   "execution_count": 132,
   "metadata": {},
   "outputs": [
    {
     "data": {
      "text/plain": [
       "2"
      ]
     },
     "execution_count": 132,
     "metadata": {},
     "output_type": "execute_result"
    }
   ],
   "source": [
    "my_list_num[1]*my_list_num[2]-my_list_num[3]"
   ]
  },
  {
   "cell_type": "markdown",
   "metadata": {},
   "source": [
    "**Question 4**:\n",
    "Create a Python list containing 3 string values."
   ]
  },
  {
   "cell_type": "code",
   "execution_count": 133,
   "metadata": {},
   "outputs": [
    {
     "name": "stdout",
     "output_type": "stream",
     "text": [
      "['COMP', '680', '002']\n"
     ]
    }
   ],
   "source": [
    "my_list_str = ['COMP', '680', '002']\n",
    "print(my_list_str)"
   ]
  },
  {
   "cell_type": "markdown",
   "metadata": {},
   "source": [
    "**Question 5**:\n",
    "Append 2 more strings to the end of this Python list you just created."
   ]
  },
  {
   "cell_type": "code",
   "execution_count": 134,
   "metadata": {},
   "outputs": [
    {
     "name": "stdout",
     "output_type": "stream",
     "text": [
      "['COMP', '680', '002', 'Statistics', 'Inference']\n"
     ]
    }
   ],
   "source": [
    "my_list_str_app = my_list_str + ['Statistics', 'Inference']\n",
    "# or \n",
    "# my_list_str_app = np.append(my_list_str, ['Statistics', 'Inference'])\n",
    "print(my_list_str_app)"
   ]
  },
  {
   "cell_type": "markdown",
   "metadata": {},
   "source": [
    "**Question 6**:\n",
    "Combine your two Python lists into a single two-dimensional list."
   ]
  },
  {
   "cell_type": "code",
   "execution_count": 135,
   "metadata": {},
   "outputs": [
    {
     "name": "stdout",
     "output_type": "stream",
     "text": [
      "[['COMP', '680', '002'], ['COMP', '680', '002', 'Statistics', 'Inference']]\n"
     ]
    }
   ],
   "source": [
    "my_2d_list = [my_list_str, my_list_str_app]\n",
    "print(my_2d_list)"
   ]
  },
  {
   "cell_type": "markdown",
   "metadata": {},
   "source": [
    "**Question 7**:\n",
    "Use any five Python functions to do some manipulations on your variables or lists. Check [here](https://docs.python.org/3/library/functions.html) for some build-in functions in [the Python Standard Library](https://docs.python.org/3/library/index.html). "
   ]
  },
  {
   "cell_type": "code",
   "execution_count": 136,
   "metadata": {},
   "outputs": [
    {
     "data": {
      "text/plain": [
       "(4, 1, 2.628, 3.0, 1.0322480322093135)"
      ]
     },
     "execution_count": 136,
     "metadata": {},
     "output_type": "execute_result"
    }
   ],
   "source": [
    "# any function should be fine\n",
    "max(my_list_num), min(my_list_num), np.mean(my_list_num), np.median(my_list_num), np.std(my_list_num)"
   ]
  },
  {
   "cell_type": "markdown",
   "metadata": {},
   "source": [
    "**Question 8**:\n",
    "Use any five Python methods to do some manipulations on your variables or lists. Check [here](https://docs.python.org/3/tutorial/datastructures.html) for some methods you can apply to Python lists or [Numpy array methods](https://numpy.org/doc/stable/reference/generated/numpy.ndarray.html)."
   ]
  },
  {
   "cell_type": "code",
   "execution_count": null,
   "metadata": {},
   "outputs": [
    {
     "name": "stdout",
     "output_type": "stream",
     "text": [
      "[1, 2, 3, 4, 3.14, 999]\n",
      "1\n",
      "[1, 2, 3, 4, 3.14]\n",
      "[0, 1, 2, 3, 4, 3.14]\n",
      "[]\n"
     ]
    }
   ],
   "source": [
    "# any methods should be fine\n",
    "my_list_num.append(999)\n",
    "print(my_list_num)\n",
    "print(my_list_num.count(999))\n",
    "my_list_num.remove(999)\n",
    "print(my_list_num)\n",
    "my_list_num.insert(0, 0)\n",
    "print(my_list_num)\n",
    "my_list_num.clear()\n",
    "print(my_list_num)"
   ]
  },
  {
   "cell_type": "markdown",
   "metadata": {},
   "source": [
    "**Question 9**:\n",
    "Create a two-dimensional NumPy array."
   ]
  },
  {
   "cell_type": "code",
   "execution_count": 138,
   "metadata": {},
   "outputs": [
    {
     "name": "stdout",
     "output_type": "stream",
     "text": [
      "[[1 2 3]\n",
      " [4 5 6]]\n"
     ]
    }
   ],
   "source": [
    "my_2d_array = np.array([[1,2,3], [4,5,6]])\n",
    "print(my_2d_array)"
   ]
  },
  {
   "cell_type": "markdown",
   "metadata": {},
   "source": [
    "**Question 10**:\n",
    "Print a subset of the rows and columns of the two-dimensional Numpy array you just created."
   ]
  },
  {
   "cell_type": "code",
   "execution_count": 139,
   "metadata": {},
   "outputs": [
    {
     "data": {
      "text/plain": [
       "6"
      ]
     },
     "execution_count": 139,
     "metadata": {},
     "output_type": "execute_result"
    }
   ],
   "source": [
    "my_2d_array[1,2]"
   ]
  },
  {
   "cell_type": "markdown",
   "metadata": {},
   "source": [
    "**Question 11**: Suppose that a fair coin is tossed repeatedly until both a head and tail have appeared at least once. Describe the sample space $\\Omega$ and calculate the probability that 3 tosses will be needed."
   ]
  },
  {
   "cell_type": "markdown",
   "metadata": {},
   "source": [
    "**Solution**: \\\n",
    "$\\Omega = \\{HT, TH, HHT, TTH, HHHT, TTTH, HHHHT, TTTTH, \\cdots \\}$ \n",
    "$\\Omega = \\{1, 2, 3, 4 \\cdots \\}$ is also fine.\n",
    "\n",
    "3 tosses need means HHT or TTH:\n",
    "\n",
    "$P(X = 3) = 1/2 \\cdot 1/2 \\cdot 1/2 \\cdot 2 = 1/4$"
   ]
  },
  {
   "cell_type": "markdown",
   "metadata": {},
   "source": [
    "**Question 12**: Consider rolling a die. Let $A = \\{1, 2\\}$, $B = \\{2, 4, 6\\}$, and $C = \\{1, 4\\}$. Show that $A$ and $B$ are independent, but not independent conditioned on $C$."
   ]
  },
  {
   "cell_type": "markdown",
   "metadata": {},
   "source": [
    "**Solution**: \\\n",
    "$P (A) = 1/3$, $P(B) = 1/2$, \\\n",
    "$P (A \\cap B) = P (\\{2 \\}) = 1/6 = P(A) \\cdot P(B)$\n",
    "\n",
    "$P (A | C) = P (A \\cap C) / P(C) = 1/2$, \\\n",
    "$P (B | C) = P (B \\cap C) / P(C) = 1/2$, \\\n",
    "$P (A \\cap B | C) = P (A \\cap B \\cap C) / P(C) =0 \\neq P (A | C) \\cdot P (B | C)$"
   ]
  },
  {
   "cell_type": "markdown",
   "metadata": {},
   "source": [
    "**Question 13**:\n",
    "For the Monty Hall problem, prove that by switching, your probablity of winning the car increases from $\\frac{1}{3}$ to $\\frac{2}{3}$. Hint: use Bayes Theorem!"
   ]
  },
  {
   "cell_type": "markdown",
   "metadata": {},
   "source": [
    "**Solution**: \\\n",
    "Suppose the participant first picked door A, and Monty opened door B, the option is to switch to door C. We want to show $P(A=car | B=goat) = 1/3$ and $P(C=car | B=goat) = 2/3$:\n",
    "\n",
    "\\begin{align}\n",
    "&P(A=car | B=goat) = \\frac{P(B=goat | A=car ) \\cdot P(A=car)}{P(B=goat)} \\\\\n",
    "=& \\frac{P(B=goat | A=car ) \\cdot P(A=car)}{P(B=goat | A=car ) \\cdot P(A=car) + P(B=goat | A=goat ) \\cdot P(A=goat)} \\\\\n",
    "=& \\frac{1 \\cdot 1/3}{1 \\cdot 1/3 + 1 \\cdot 2/3} = 1/3\n",
    "\\end{align}\n",
    "\n",
    "\\begin{align}\n",
    "&P(C=car | B=goat) = \\frac{P(B=goat | C=car ) \\cdot P(C=car)}{P(B=goat)} \\\\\n",
    "=& \\frac{P(B=goat | C=car ) \\cdot P(C=car)}{P(B=goat | C=car ) \\cdot P(C=car) + P(B=goat | C=goat ) \\cdot P(C=goat)} \\\\\n",
    "=& \\frac{1 \\cdot 2/3}{1 \\cdot 2/3 + 1 \\cdot 1/3} = 2/3\n",
    "\\end{align}"
   ]
  },
  {
   "cell_type": "markdown",
   "metadata": {},
   "source": [
    "**Question 14**:\n",
    "For the Monty Hall problem, if Monty randomly choose a door to open, and it happens to be a goat. Prove that in this case, switching does not increase your probablity of wining the car! This is known as \"The Random Monty Hall Problem\"."
   ]
  },
  {
   "cell_type": "markdown",
   "metadata": {},
   "source": [
    "**Solution**: \\\n",
    "Use same notation as above:\n",
    "\\begin{align}\n",
    "&P(A=car | B=goat) = \\frac{P(B=goat | A=car ) \\cdot P(A=car)}{P(B=goat)} \\\\\n",
    "=& \\frac{P(B=goat | A=car ) \\cdot P(A=car)}{P(B=goat | A=car ) \\cdot P(A=car) + P(B=goat | A=goat ) \\cdot P(A=goat)} \\\\\n",
    "=& \\frac{1 \\cdot 1/3}{1 \\cdot 1/3 + 1/2 \\cdot 2/3} = 1/2\n",
    "\\end{align}\n",
    "\n",
    "\\begin{align}\n",
    "&P(C=car | B=goat) = \\frac{P(B=goat | C=car ) \\cdot P(C=car)}{P(B=goat)} \\\\\n",
    "=& \\frac{P(B=goat | C=car ) \\cdot P(C=car)}{P(B=goat | C=car ) \\cdot P(C=car) + P(B=goat | C=goat ) \\cdot P(C=goat)} \\\\\n",
    "=& \\frac{1/2 \\cdot 2/3}{1/2 \\cdot 2/3 + 1\\cdot 1/3} = 1/2\n",
    "\\end{align}"
   ]
  },
  {
   "cell_type": "markdown",
   "metadata": {},
   "source": [
    "**Question 15**:\n",
    "Let $X$ have probability density function:\n",
    "$$ f_X(x) = \\begin{cases} \\frac{1}{4} \\quad &0 < x < 1 \\\\\n",
    "\\frac{3}{8} \\quad &3 < x < 5 \\\\\n",
    "0 \\quad &\\text{otherwise} \\\\\n",
    "\\end{cases}\n",
    "$$\n",
    "Find the cdf of $X$."
   ]
  },
  {
   "cell_type": "markdown",
   "metadata": {},
   "source": [
    "**Solution**: \\\n",
    "$$ F_X(x) = \\begin{cases} 0 \\quad & x \\leq 0 \\\\\n",
    "\\int_0^x \\frac{1}{4} dx  = \\frac{1}{4}x \\quad &0 < x \\leq 1 \\\\\n",
    "\\int_0^1 \\frac{1}{4} dx = \\frac{1}{4} \\quad &1 < x \\leq 3 \\\\\n",
    " \\int_0^1 \\frac{1}{4} dx + \\int_3^x \\frac{3}{8} dx = \\frac{1}{4} + \\frac{3}{8}(x - 3) \\quad &3 < x \\leq 5 \\\\\n",
    "\\int_0^1 \\frac{1}{4} dx + \\int_3^5 \\frac{3}{8} dx = 1 \\quad & x > 5 \\\\\n",
    "\\end{cases}\n",
    "$$"
   ]
  },
  {
   "cell_type": "markdown",
   "metadata": {},
   "source": [
    "**Question 16**:\n",
    "Let $X$ have probability density function in previous question. Let $Y = 1/X$. Find the probability density function $f_Y(y)$ for $Y$.\n",
    "\n",
    "(Hint: consider 3 cases: $\\frac{1}{5} \\leq y \\leq \\frac{1}{3}$, $\\frac{1}{3} \\leq y \\leq 1$ and $y \\geq 1$.)"
   ]
  },
  {
   "cell_type": "markdown",
   "metadata": {},
   "source": [
    "**Solution**: \\\n",
    "$$\n",
    "F_Y(y) = P(Y \\leq y) = P(1/X \\leq y) = P(X \\geq 1/y) = 1 - F_X(1/y) \\\\\n",
    "= \\begin{cases} 1 - \\frac{1}{4y}  \\quad & y \\geq 1 \\\\\n",
    "\\frac{3}{4} \\quad &\\frac{1}{3} \\leq y < 1 \\\\\n",
    "\\frac{3}{4} + \\frac{3}{8}(3 - \\frac{1}{y}) \\quad &\\frac{1}{5} \\leq y < \\frac{1}{3} \\\\\n",
    "0 \\quad & y < \\frac{1}{5} \\\\\n",
    "\\end{cases}\n",
    "$$\n",
    "\n",
    "$$ f_Y(y) = F'_Y(y) \\begin{cases}\n",
    "\\frac{3}{8y^2} \\quad &\\frac{1}{5} \\leq y < \\frac{1}{3} \\\\\n",
    "\\frac{1}{4y^2} \\quad & y \\geq 1\\\\\n",
    "0 \\quad &\\text{otherwise}\\\\\n",
    "\\end{cases}\n",
    "$$\n"
   ]
  },
  {
   "cell_type": "markdown",
   "metadata": {},
   "source": [
    "**Question 17**:\n",
    "Let $X$ be a continous random variable with pdf $f_X(x)$ and cdf $F_X(x)$. Let $A$ be a subset of the real line. Let $I_A(x)$ be the indicator function for A:\n",
    "$$ I_A(x) = \\begin{cases} 1 \\quad x \\in A \\\\\n",
    "0 \\quad x \\not\\in A \n",
    "\\end{cases}$$\n",
    "Let $Y = I_A(x)$. Find an expression for the cdf of Y. \n",
    "\n",
    "(Hint: first find the probablity mass function for $Y$.)"
   ]
  },
  {
   "cell_type": "markdown",
   "metadata": {},
   "source": [
    "**Solution**: \\\n",
    "Y can only take values 0 and 1, therefore is a discrete random variable. \\\n",
    "The PMF for Y:\\\n",
    "$ P(Y = 1) = P(x \\in A) = \\int_A f_X(x) dx$, \\\n",
    "$P(Y = 0) = 1 - P(x \\in A) = 1 - \\int_A f_X(x) dx$\\\n",
    "The CDF for Y:\n",
    "$$ F_Y(y) = \\begin{cases} 0 \\quad & y < 0 \\\\\n",
    "1 - \\int_A f_X(x) dx \\quad & 0 \\leq y < 1 \\\\\n",
    "1 \\quad & y \\geq 1 \n",
    "\\end{cases}$$"
   ]
  },
  {
   "cell_type": "markdown",
   "metadata": {},
   "source": [
    "**Question 18**: Let $X$ and $Y$ have the joind pdf:\n",
    "$$ f_{X, Y}(x, y) = \\begin{cases} c( x + y^2) \\quad &0 \\leq x \\leq 1 \\text{ and } 0 \\leq y \\leq 1 \\\\\n",
    "0 \\quad &\\text{otherwise} \\end{cases} $$\n",
    "Find the value of c."
   ]
  },
  {
   "cell_type": "markdown",
   "metadata": {},
   "source": [
    "**Solution**: \n",
    "$$ \\int_0^1 \\int_0^1 f_{X, Y}(x, y) dx dy = \\frac{5}{6} c = 1 \\Rightarrow c = \\frac{6}{5}$$"
   ]
  },
  {
   "cell_type": "markdown",
   "metadata": {},
   "source": [
    "**Question 19**: Let  𝑋  and  𝑌  have the same joind pdf as previous problem. Find the marginal pdf of Y."
   ]
  },
  {
   "cell_type": "markdown",
   "metadata": {},
   "source": [
    "**Solution**: \\\n",
    "To get the marginal pdf of Y, need to integrate X over its domain: $\\int_0^1 f_{X, Y}(x, y) dy = \\frac{6}{5}\\left( \\frac{1}{2} + y^2 \\right)$\n",
    "\n",
    "$$ f_Y(y) = \\begin{cases} \\frac{6}{5}\\left( \\frac{1}{2} + y^2 \\right) &0 \\leq y \\leq 1 \\\\\n",
    "0 \\quad &\\text{otherwise} \\end{cases} $$"
   ]
  },
  {
   "cell_type": "markdown",
   "metadata": {},
   "source": [
    "**Question 20**: Let  𝑋  and  𝑌  have the same joind pdf as previous problem. Find $P(X < \\frac{1}{2} | Y = \\frac{1}{2})$"
   ]
  },
  {
   "cell_type": "markdown",
   "metadata": {},
   "source": [
    "**Solution**: \\\n",
    "We need to first find the conditional pdf of $X$ conditioned on $Y=\\frac{1}{2}$:\n",
    "$$\n",
    "f_X(x | Y = \\frac{1}{2}) = \\frac{f_{X, Y}(x, y)}{f_Y(y)} |_{y=\\frac{1}{2}}= \\frac{\\frac{6}{5} ( x + \\frac{1}{2}^2)}{\\frac{6}{5}(\\frac{1}{2} + \\frac{1}{2}^2)} = \\frac{4x+1}{3}\n",
    "$$\n",
    "\n",
    "$$ P(X < \\frac{1}{2} | Y = \\frac{1}{2}) = \\int_0 ^{\\frac{1}{2}}\\frac{4x+1}{3} dx = \\frac{1}{3} $$"
   ]
  },
  {
   "cell_type": "markdown",
   "metadata": {},
   "source": [
    "You're done with HW 1!  Be sure to...\n",
    "\n",
    "* **Save and Checkpoint** from the File menu,\n",
    "* **Close and Halt** from the File menu,\n",
    "* **Rename your ipynb file**, replacing LASTNAME with your last name,\n",
    "* **Upload** your file to the course website."
   ]
  }
 ],
 "metadata": {
  "anaconda-cloud": {},
  "kernelspec": {
   "display_name": "Python 3",
   "language": "python",
   "name": "python3"
  },
  "language_info": {
   "codemirror_mode": {
    "name": "ipython",
    "version": 3
   },
   "file_extension": ".py",
   "mimetype": "text/x-python",
   "name": "python",
   "nbconvert_exporter": "python",
   "pygments_lexer": "ipython3",
   "version": "3.8.3"
  }
 },
 "nbformat": 4,
 "nbformat_minor": 1
}
